{
 "cells": [
  {
   "cell_type": "code",
   "execution_count": null,
   "id": "817ce649-4915-42bb-be98-9867c03ae1ed",
   "metadata": {},
   "outputs": [],
   "source": [
    "%pip install jupyterquiz\n",
    "from jupyterquiz import display_quiz\n",
    "display_quiz(\"Quiz2.json\")"
   ]
  }
 ],
 "metadata": {
  "kernelspec": {
   "display_name": "Python 3 (ipykernel)",
   "language": "python",
   "name": "conda-base-py"
  },
  "language_info": {
   "codemirror_mode": {
    "name": "ipython",
    "version": 3
   },
   "file_extension": ".py",
   "mimetype": "text/x-python",
   "name": "python",
   "nbconvert_exporter": "python",
   "pygments_lexer": "ipython3",
   "version": "3.10.14"
  }
 },
 "nbformat": 4,
 "nbformat_minor": 5
}
