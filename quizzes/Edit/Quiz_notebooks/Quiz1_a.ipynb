{
 "cells": [
  {
   "cell_type": "code",
   "execution_count": null,
   "id": "0adb3f4e-eaf6-48cd-ada3-4e92e9eacb38",
   "metadata": {},
   "outputs": [],
   "source": [
    "%pip install jupyterquiz\n",
    "from jupyterquiz import display_quiz\n",
    "display_quiz(\"Quiz1_a.json\")"
   ]
  }
 ],
 "metadata": {
  "kernelspec": {
   "display_name": "Python 3 (ipykernel)",
   "language": "python",
   "name": "conda-base-py"
  },
  "language_info": {
   "codemirror_mode": {
    "name": "ipython",
    "version": 3
   },
   "file_extension": ".py",
   "mimetype": "text/x-python",
   "name": "python",
   "nbconvert_exporter": "python",
   "pygments_lexer": "ipython3",
   "version": "3.10.14"
  }
 },
 "nbformat": 4,
 "nbformat_minor": 5
}
